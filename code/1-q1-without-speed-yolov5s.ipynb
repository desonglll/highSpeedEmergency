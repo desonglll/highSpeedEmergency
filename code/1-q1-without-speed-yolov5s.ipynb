{
 "cells": [
  {
   "cell_type": "raw",
   "source": [],
   "metadata": {
    "collapsed": false
   },
   "id": "40576ddc989c14d2"
  },
  {
   "cell_type": "code",
   "execution_count": null,
   "outputs": [],
   "source": [],
   "metadata": {
    "collapsed": false
   },
   "id": "8dc39720f84dcb30"
  },
  {
   "cell_type": "code",
   "execution_count": null,
   "outputs": [],
   "source": [
    "import torch\n",
    "from tqdm import tqdm\n",
    "# 加载YOLOv5模型\n",
    "model = torch.hub.load('ultralytics/yolov5', 'yolov5s', pretrained=True)"
   ],
   "metadata": {
    "collapsed": false
   },
   "id": "3b456ece06a3ab27"
  },
  {
   "cell_type": "code",
   "execution_count": null,
   "outputs": [],
   "source": [
    "\n",
    "# 定义检测的类（只检测车辆相关的类别）\n",
    "classes_to_detect = ['bicycle', 'car', 'motorbike', 'bus', 'truck']\n"
   ],
   "metadata": {
    "collapsed": false
   },
   "id": "7c89d2da74184c6e"
  },
  {
   "cell_type": "code",
   "execution_count": null,
   "outputs": [],
   "source": [
    "from tools.video import get_video_paths\n",
    "\n",
    "video_paths = get_video_paths(\"./dataset/train\")"
   ],
   "metadata": {
    "collapsed": false
   },
   "id": "dba3e5898aba02e6"
  },
  {
   "cell_type": "code",
   "execution_count": null,
   "outputs": [],
   "source": [
    "import time\n",
    "import csv\n",
    "import os\n",
    "import cv2\n",
    "from tqdm import tqdm\n",
    "\n",
    "# 初始化变量\n",
    "all_output_data = []  # 存储所有视频的运行数据\n",
    "\n",
    "for path in tqdm(video_paths):\n",
    "    file_folder = path.split('/')[-2]\n",
    "    full_file_folder = str('/').join(path.split('/')[:-1])\n",
    "    \n",
    "    # 打开视频文件\n",
    "    filename = os.path.basename(path)\n",
    "    video_name = os.path.splitext(filename)[0]\n",
    "    cap = cv2.VideoCapture(path)\n",
    "    fps = cap.get(cv2.CAP_PROP_FPS)  # 获取视频帧率\n",
    "\n",
    "    # 获取视频的帧数\n",
    "    all_frame_count = int(cap.get(cv2.CAP_PROP_FRAME_COUNT))\n",
    "    print(f\"视频总帧数: {all_frame_count}\")\n",
    "\n",
    "    # 定义用于计算流量的线的位置\n",
    "    frame_height = int(cap.get(cv2.CAP_PROP_FRAME_HEIGHT))\n",
    "    line_position = frame_height // 2  # 根据需要调整位置\n",
    "\n",
    "    # 初始化变量\n",
    "    frame_count = 0\n",
    "    output_data = []\n",
    "\n",
    "    # 定义处理间隔（每25帧处理一次）\n",
    "    process_frame_interval = 25  # 每25帧处理一次\n",
    "\n",
    "    # 定义输出间隔（以处理的帧数为单位）\n",
    "    output_frame_interval = 1  # 每处理25帧输出一次\n",
    "\n",
    "    processed_frame_count = 0  # 处理过的帧数计数器\n",
    "\n",
    "    # 记录开始时间\n",
    "    start_time = time.time()\n",
    "\n",
    "    while cap.isOpened():\n",
    "        ret, frame = cap.read()\n",
    "        if not ret:\n",
    "            break\n",
    "        frame_count += 1\n",
    "\n",
    "        # 仅每隔指定的帧数处理一次\n",
    "        if frame_count % process_frame_interval != 0:\n",
    "            continue\n",
    "\n",
    "        processed_frame_count += 1  # 增加处理过的帧数计数器\n",
    "\n",
    "        # 使用YOLOv5模型进行推理\n",
    "        results = model(frame)\n",
    "        detections = results.xyxy[0].cpu().numpy()  # [x1, y1, x2, y2, confidence, class_id]\n",
    "\n",
    "        boxes = []\n",
    "        confidences = []\n",
    "        class_ids = []\n",
    "\n",
    "        for det in detections:\n",
    "            confidence = det[4]\n",
    "            class_id = int(det[5])\n",
    "            if confidence > 0.3:  # 使用置信度阈值\n",
    "                class_name = model.names[class_id]\n",
    "                if class_name in classes_to_detect:\n",
    "                    x1, y1, x2, y2 = int(det[0]), int(det[1]), int(det[2]), int(det[3])\n",
    "                    boxes.append([x1, y1, x2 - x1, y2 - y1])\n",
    "                    confidences.append(confidence)\n",
    "                    class_ids.append(class_id)\n",
    "\n",
    "        # 计算密度：当前帧中的车辆数量\n",
    "        density = len(boxes)\n",
    "\n",
    "        # 计算流量：判断位于指定线位置的车辆数量\n",
    "        flow = 0\n",
    "        for box in boxes:\n",
    "            x1, y1, x2, y2 = box\n",
    "            # 检查车辆是否与线相交\n",
    "            if y1 <= line_position <= y2:\n",
    "                flow += 1\n",
    "\n",
    "        # 每隔一定的处理帧数输出一次数据\n",
    "        if processed_frame_count % output_frame_interval == 0:\n",
    "            output = {\n",
    "                'Frame': frame_count,\n",
    "                'Flow': flow,\n",
    "                'Density': density\n",
    "            }\n",
    "            print(f\"视频总帧数: {all_frame_count}\")\n",
    "            print(output)\n",
    "            output_data.append(output)\n",
    "\n",
    "    # 记录结束时间\n",
    "    end_time = time.time()\n",
    "\n",
    "    # 计算总处理时间\n",
    "    total_time = end_time - start_time\n",
    "\n",
    "    # 计算处理帧率（每秒处理帧数）\n",
    "    process_fps = processed_frame_count / total_time\n",
    "\n",
    "    # 保存每个视频的统计数据\n",
    "    video_output = {\n",
    "        'Video Name': video_name,\n",
    "        'Total Frames': all_frame_count,\n",
    "        'Processed Frames': processed_frame_count,\n",
    "        'Total Time (s)': total_time,\n",
    "        'Process FPS': process_fps\n",
    "    }\n",
    "    all_output_data.append(video_output)\n",
    "\n",
    "    cap.release()\n",
    "\n",
    "# 保存所有视频的处理数据到CSV文件\n",
    "output_csv_path = \"yolov5_runtime_stats.csv\"\n",
    "with open(output_csv_path, mode='w', newline='') as csv_file:\n",
    "    fieldnames = ['Video Name', 'Total Frames', 'Processed Frames', 'Total Time (s)', 'Process FPS']\n",
    "    writer = csv.DictWriter(csv_file, fieldnames=fieldnames)\n",
    "\n",
    "    writer.writeheader()\n",
    "    for data in all_output_data:\n",
    "        writer.writerow(data)\n",
    "\n",
    "print(f\"所有视频处理数据已保存到 {output_csv_path}\")\n"
   ],
   "metadata": {
    "collapsed": false
   },
   "id": "4c8c1260e211477f"
  },
  {
   "cell_type": "code",
   "execution_count": null,
   "outputs": [],
   "source": [],
   "metadata": {
    "collapsed": false
   },
   "id": "484112950d227d45"
  }
 ],
 "metadata": {
  "kernelspec": {
   "display_name": "Python 3",
   "language": "python",
   "name": "python3"
  },
  "language_info": {
   "codemirror_mode": {
    "name": "ipython",
    "version": 2
   },
   "file_extension": ".py",
   "mimetype": "text/x-python",
   "name": "python",
   "nbconvert_exporter": "python",
   "pygments_lexer": "ipython2",
   "version": "2.7.6"
  }
 },
 "nbformat": 4,
 "nbformat_minor": 5
}
