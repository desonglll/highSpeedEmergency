{
 "cells": [
  {
   "cell_type": "code",
   "execution_count": 8,
   "id": "initial_id",
   "metadata": {
    "collapsed": true,
    "ExecuteTime": {
     "end_time": "2024-09-25T02:35:28.417539Z",
     "start_time": "2024-09-25T02:35:28.412207Z"
    }
   },
   "outputs": [
    {
     "name": "stdout",
     "output_type": "stream",
     "text": [
      "20240501_20240501141554_20240501152820_141555\n",
      "20240501_20240501115227_20240501130415_115227\n",
      "20240501_20240501130415_20240501141554_130415\n",
      "20240501_20240501125647_20240501140806_125649\n",
      "20240501_20240501140806_20240501152004_140807\n",
      "20240501_20240501135236_20240501160912_135235\n",
      "20240501_20240501113543_20240501135236_113542\n",
      "20240501_20240501135755_20240501161432_135755\n",
      "20240501_20240501114103_20240501135755_114103\n"
     ]
    }
   ],
   "source": [
    "from tools.csv import csv_files\n",
    "csv_list = csv_files(\"./plots/q1_model\")\n",
    "# print(csv_list)\n",
    "for path in csv_list:\n",
    "    save_path = str(\"/\").join(path.split(\"/\")[:-1])\n",
    "    file_number = str(\"_\").join(path.split(\"/\")[-1].split(\".\")[0].split(\"_\")[:-3])\n",
    "    print(file_number)\n"
   ]
  },
  {
   "cell_type": "code",
   "execution_count": 9,
   "outputs": [],
   "source": [
    "import pandas as pd\n",
    "def ruler(path:str):\n",
    "    # 读取CSV文件\n",
    "    df = pd.read_csv(path)\n",
    "    save_path = str(\"/\").join(path.split(\"/\")[:-1])\n",
    "    file_number = str(\"_\").join(path.split(\"/\")[-1].split(\".\")[0].split(\"_\")[:-3])\n",
    "\n",
    "    # 定义阈值\n",
    "    density_threshold = 12  # 你可以根据需要修改阈值\n",
    "    speed_threshold = 100\n",
    "    \n",
    "    # 处理Density阈值大于指定阈值的连续三个时间帧\n",
    "    for i in range(len(df) - 2):\n",
    "        if (df.loc[i, 'Density'] > density_threshold and \n",
    "            df.loc[i+1, 'Density'] > density_threshold and \n",
    "            df.loc[i+2, 'Density'] > density_threshold):\n",
    "            for j in range(i+3, min(i+8, len(df))):  # 修改接下来的5个时间帧\n",
    "                df.loc[j, 'Density'] *= 0.8\n",
    "    \n",
    "    # 处理Estimated_Speed小于指定阈值的连续三个时间帧\n",
    "    for i in range(len(df) - 2):\n",
    "        if (df.loc[i, 'Estimated_Speed'] < speed_threshold and \n",
    "            df.loc[i+1, 'Estimated_Speed'] < speed_threshold and \n",
    "            df.loc[i+2, 'Estimated_Speed'] < speed_threshold):\n",
    "            for j in range(i+3, min(i+8, len(df))):  # 修改接下来的5个时间帧\n",
    "                df.loc[j, 'Density'] *= 0.8\n",
    "    \n",
    "    # 保存处理后的数据到新的CSV文件\n",
    "    df = df.drop(columns=['Estimated_Speed'])\n",
    "    df.to_csv(f'{save_path}/{file_number}_processed_file.csv', index=False)\n",
    "    \n",
    "    print(\"处理完成，结果已保存为 'processed_file.csv'\")\n"
   ],
   "metadata": {
    "collapsed": false,
    "ExecuteTime": {
     "end_time": "2024-09-25T02:35:51.446245Z",
     "start_time": "2024-09-25T02:35:51.053715Z"
    }
   },
   "id": "ca531a85de16138f"
  },
  {
   "cell_type": "code",
   "execution_count": 10,
   "outputs": [
    {
     "name": "stdout",
     "output_type": "stream",
     "text": [
      "处理完成，结果已保存为 'processed_file.csv'\n",
      "处理完成，结果已保存为 'processed_file.csv'\n",
      "处理完成，结果已保存为 'processed_file.csv'\n",
      "处理完成，结果已保存为 'processed_file.csv'\n",
      "处理完成，结果已保存为 'processed_file.csv'\n",
      "处理完成，结果已保存为 'processed_file.csv'\n",
      "处理完成，结果已保存为 'processed_file.csv'\n",
      "处理完成，结果已保存为 'processed_file.csv'\n",
      "处理完成，结果已保存为 'processed_file.csv'\n"
     ]
    },
    {
     "name": "stderr",
     "output_type": "stream",
     "text": [
      "/var/folders/nj/lm1sfpms65z1jzzh7ppm1f0c0000gn/T/ipykernel_95083/649794972.py:18: FutureWarning: Setting an item of incompatible dtype is deprecated and will raise an error in a future version of pandas. Value '7.2' has dtype incompatible with int64, please explicitly cast to a compatible dtype first.\n",
      "  df.loc[j, 'Density'] *= 0.8\n",
      "/var/folders/nj/lm1sfpms65z1jzzh7ppm1f0c0000gn/T/ipykernel_95083/649794972.py:18: FutureWarning: Setting an item of incompatible dtype is deprecated and will raise an error in a future version of pandas. Value '8.8' has dtype incompatible with int64, please explicitly cast to a compatible dtype first.\n",
      "  df.loc[j, 'Density'] *= 0.8\n",
      "/var/folders/nj/lm1sfpms65z1jzzh7ppm1f0c0000gn/T/ipykernel_95083/649794972.py:18: FutureWarning: Setting an item of incompatible dtype is deprecated and will raise an error in a future version of pandas. Value '7.2' has dtype incompatible with int64, please explicitly cast to a compatible dtype first.\n",
      "  df.loc[j, 'Density'] *= 0.8\n",
      "/var/folders/nj/lm1sfpms65z1jzzh7ppm1f0c0000gn/T/ipykernel_95083/649794972.py:26: FutureWarning: Setting an item of incompatible dtype is deprecated and will raise an error in a future version of pandas. Value '6.4' has dtype incompatible with int64, please explicitly cast to a compatible dtype first.\n",
      "  df.loc[j, 'Density'] *= 0.8\n",
      "/var/folders/nj/lm1sfpms65z1jzzh7ppm1f0c0000gn/T/ipykernel_95083/649794972.py:18: FutureWarning: Setting an item of incompatible dtype is deprecated and will raise an error in a future version of pandas. Value '11.200000000000001' has dtype incompatible with int64, please explicitly cast to a compatible dtype first.\n",
      "  df.loc[j, 'Density'] *= 0.8\n"
     ]
    }
   ],
   "source": [
    "for path in csv_list:\n",
    "    ruler(path)"
   ],
   "metadata": {
    "collapsed": false,
    "ExecuteTime": {
     "end_time": "2024-09-25T02:36:06.040966Z",
     "start_time": "2024-09-25T02:36:05.863642Z"
    }
   },
   "id": "efa26a73799c09cf"
  },
  {
   "cell_type": "code",
   "execution_count": null,
   "outputs": [],
   "source": [],
   "metadata": {
    "collapsed": false
   },
   "id": "d9e1dbba98082caf"
  }
 ],
 "metadata": {
  "kernelspec": {
   "display_name": "Python 3",
   "language": "python",
   "name": "python3"
  },
  "language_info": {
   "codemirror_mode": {
    "name": "ipython",
    "version": 2
   },
   "file_extension": ".py",
   "mimetype": "text/x-python",
   "name": "python",
   "nbconvert_exporter": "python",
   "pygments_lexer": "ipython2",
   "version": "2.7.6"
  }
 },
 "nbformat": 4,
 "nbformat_minor": 5
}
