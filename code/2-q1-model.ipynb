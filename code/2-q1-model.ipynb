{
 "cells": [
  {
   "cell_type": "code",
   "execution_count": 37,
   "id": "initial_id",
   "metadata": {
    "collapsed": true,
    "ExecuteTime": {
     "end_time": "2024-09-24T04:08:54.285936Z",
     "start_time": "2024-09-24T04:08:54.279147Z"
    }
   },
   "outputs": [],
   "source": [
    "import os\n",
    "\n",
    "import pandas as pd\n",
    "import numpy as np\n",
    "import matplotlib.pyplot as plt"
   ]
  },
  {
   "cell_type": "code",
   "execution_count": 38,
   "outputs": [],
   "source": [
    "# 设定参数\n",
    "K_jam = 180  # 堵塞密度（车辆/公里）\n",
    "V_c = 35  # 临界速度（公里/小时）"
   ],
   "metadata": {
    "collapsed": false,
    "ExecuteTime": {
     "end_time": "2024-09-24T04:08:54.287642Z",
     "start_time": "2024-09-24T04:08:54.284869Z"
    }
   },
   "id": "ce1698a2b9f4702d"
  },
  {
   "cell_type": "code",
   "execution_count": 39,
   "outputs": [],
   "source": [
    "from tools.csv import csv_files\n",
    "\n",
    "csv_list = csv_files(\"./res/with-speed\")"
   ],
   "metadata": {
    "collapsed": false,
    "ExecuteTime": {
     "end_time": "2024-09-24T04:08:54.297561Z",
     "start_time": "2024-09-24T04:08:54.289994Z"
    }
   },
   "id": "225263c4f956ad4a"
  },
  {
   "cell_type": "code",
   "execution_count": 40,
   "outputs": [],
   "source": [
    "# 定义Greenberg模型函数\n",
    "def estimate_speed_greenberg(K, V_c=V_c, K_jam=K_jam):\n",
    "    \"\"\"\n",
    "    根据Greenberg模型估算速度\n",
    "    \"\"\"\n",
    "    K = np.maximum(K, 1e-5)  # 防止密度为零，避免log(0)\n",
    "    V = V_c * np.log(K_jam / K)\n",
    "    return np.maximum(V, 0)  # 确保速度不为负\n"
   ],
   "metadata": {
    "collapsed": false,
    "ExecuteTime": {
     "end_time": "2024-09-24T04:08:54.297856Z",
     "start_time": "2024-09-24T04:08:54.295447Z"
    }
   },
   "id": "5c76cf0fa9260f10"
  },
  {
   "cell_type": "code",
   "execution_count": 41,
   "outputs": [
    {
     "name": "stdout",
     "output_type": "stream",
     "text": [
      "32.31.250.105 20240501_20240501115227_20240501130415_115227.csv\n",
      "32.31.250.105 20240501_20240501130415_20240501141554_130415.csv\n",
      "32.31.250.105 20240501_20240501141554_20240501152820_141555.csv\n",
      "32.31.250.103 20240501_20240501140806_20240501152004_140807.csv\n",
      "32.31.250.103 20240501_20240501125647_20240501140806_125649.csv\n",
      "32.31.250.108 20240501_20240501113543_20240501135236_113542.csv\n",
      "32.31.250.108 20240501_20240501135236_20240501160912_135235.csv\n",
      "32.31.250.107 20240501_20240501135755_20240501161432_135755.csv\n",
      "32.31.250.107 20240501_20240501114103_20240501135755_114103.csv\n"
     ]
    }
   ],
   "source": [
    "for csv_file_path in csv_list:\n",
    "    csv_file_folder = csv_file_path.split('/')[-2]\n",
    "    csv_file_name = csv_file_path.split('/')[-1]\n",
    "    print(csv_file_folder, csv_file_name)"
   ],
   "metadata": {
    "collapsed": false,
    "ExecuteTime": {
     "end_time": "2024-09-24T04:08:54.305410Z",
     "start_time": "2024-09-24T04:08:54.300932Z"
    }
   },
   "id": "740546ae7ba3ed97"
  },
  {
   "cell_type": "code",
   "execution_count": 42,
   "outputs": [
    {
     "name": "stdout",
     "output_type": "stream",
     "text": [
      "结果已保存到文件：./plots/q1_model/32.31.250.105/20240501_20240501115227_20240501130415_115227_traffic_estimated_speed.csv\n",
      "Estimated_Speed的可视化已保存为：./plots/q1_model/32.31.250.105/20240501_20240501115227_20240501130415_115227_estimated_speed_plot.png\n",
      "结果已保存到文件：./plots/q1_model/32.31.250.105/20240501_20240501130415_20240501141554_130415_traffic_estimated_speed.csv\n",
      "Estimated_Speed的可视化已保存为：./plots/q1_model/32.31.250.105/20240501_20240501130415_20240501141554_130415_estimated_speed_plot.png\n",
      "结果已保存到文件：./plots/q1_model/32.31.250.105/20240501_20240501141554_20240501152820_141555_traffic_estimated_speed.csv\n",
      "Estimated_Speed的可视化已保存为：./plots/q1_model/32.31.250.105/20240501_20240501141554_20240501152820_141555_estimated_speed_plot.png\n",
      "结果已保存到文件：./plots/q1_model/32.31.250.103/20240501_20240501140806_20240501152004_140807_traffic_estimated_speed.csv\n",
      "Estimated_Speed的可视化已保存为：./plots/q1_model/32.31.250.103/20240501_20240501140806_20240501152004_140807_estimated_speed_plot.png\n",
      "结果已保存到文件：./plots/q1_model/32.31.250.103/20240501_20240501125647_20240501140806_125649_traffic_estimated_speed.csv\n",
      "Estimated_Speed的可视化已保存为：./plots/q1_model/32.31.250.103/20240501_20240501125647_20240501140806_125649_estimated_speed_plot.png\n",
      "结果已保存到文件：./plots/q1_model/32.31.250.108/20240501_20240501113543_20240501135236_113542_traffic_estimated_speed.csv\n",
      "Estimated_Speed的可视化已保存为：./plots/q1_model/32.31.250.108/20240501_20240501113543_20240501135236_113542_estimated_speed_plot.png\n",
      "结果已保存到文件：./plots/q1_model/32.31.250.108/20240501_20240501135236_20240501160912_135235_traffic_estimated_speed.csv\n",
      "Estimated_Speed的可视化已保存为：./plots/q1_model/32.31.250.108/20240501_20240501135236_20240501160912_135235_estimated_speed_plot.png\n",
      "结果已保存到文件：./plots/q1_model/32.31.250.107/20240501_20240501135755_20240501161432_135755_traffic_estimated_speed.csv\n",
      "Estimated_Speed的可视化已保存为：./plots/q1_model/32.31.250.107/20240501_20240501135755_20240501161432_135755_estimated_speed_plot.png\n",
      "结果已保存到文件：./plots/q1_model/32.31.250.107/20240501_20240501114103_20240501135755_114103_traffic_estimated_speed.csv\n",
      "Estimated_Speed的可视化已保存为：./plots/q1_model/32.31.250.107/20240501_20240501114103_20240501135755_114103_estimated_speed_plot.png\n"
     ]
    }
   ],
   "source": [
    "for csv_file_path in csv_list:\n",
    "    csv_file_folder = csv_file_path.split('/')[-2]\n",
    "    csv_file_name = csv_file_path.split('/')[-1]\n",
    "    csv_file_number = csv_file_name.split('.')[0]\n",
    "    df = pd.read_csv(csv_file_path)\n",
    "\n",
    "    # 计算速度\n",
    "    df['Estimated_Speed'] = estimate_speed_greenberg(df['Density'])\n",
    "    saved_folder = f\"./plots/q1_model/{csv_file_folder}\"\n",
    "    if not os.path.exists(saved_folder):\n",
    "        os.makedirs(saved_folder, exist_ok=True)\n",
    "\n",
    "    # 将结果保存到新的CSV文件\n",
    "    df.to_csv(f'{saved_folder}/{csv_file_number}_traffic_estimated_speed.csv', index=False)\n",
    "    print(f'结果已保存到文件：{saved_folder}/{csv_file_number}_traffic_estimated_speed.csv')\n",
    "\n",
    "    # 可视化Estimated_Speed并保存图片\n",
    "    # 创建图形和坐标轴\n",
    "    plt.figure(figsize=(8, 6))\n",
    "\n",
    "    # 绘制估计速度曲线\n",
    "    plt.plot(df['Frame'], df['Estimated_Speed'], marker='o', linestyle='-', color='blue', label='Estimate the velocity')\n",
    "\n",
    "    # 添加水平线 y = 70\n",
    "    plt.axhline(y=70, color='red', linestyle='--', linewidth=1, label='Threshold 70 km/h')\n",
    "\n",
    "    # 添加水平线 y = 80\n",
    "    plt.axhline(y=80, color='green', linestyle='--', linewidth=1, label='Threshold 80 km/h')\n",
    "\n",
    "    # 设置坐标轴标签\n",
    "    plt.xlabel('Frame')\n",
    "    plt.ylabel('Estimated speed (km/h)')\n",
    "\n",
    "    # 设置图形标题\n",
    "    plt.title('Estimated Speed over Frames')\n",
    "\n",
    "    # 显示图例\n",
    "    plt.legend()\n",
    "\n",
    "    # 添加网格\n",
    "    plt.grid(True)\n",
    "\n",
    "    # 保存图形为PNG文件\n",
    "    plt.savefig(f'{saved_folder}/{csv_file_number}_estimated_speed_plot.png')\n",
    "\n",
    "    # 打印保存确认信息\n",
    "    print(f'Estimated_Speed的可视化已保存为：{saved_folder}/{csv_file_number}_estimated_speed_plot.png')\n",
    "\n",
    "    # 关闭图形\n",
    "    plt.close()\n"
   ],
   "metadata": {
    "collapsed": false,
    "ExecuteTime": {
     "end_time": "2024-09-24T04:08:55.148498Z",
     "start_time": "2024-09-24T04:08:54.310027Z"
    }
   },
   "id": "6a0887cffcd6c596"
  }
 ],
 "metadata": {
  "kernelspec": {
   "display_name": "Python 3",
   "language": "python",
   "name": "python3"
  },
  "language_info": {
   "codemirror_mode": {
    "name": "ipython",
    "version": 2
   },
   "file_extension": ".py",
   "mimetype": "text/x-python",
   "name": "python",
   "nbconvert_exporter": "python",
   "pygments_lexer": "ipython2",
   "version": "2.7.6"
  }
 },
 "nbformat": 4,
 "nbformat_minor": 5
}
